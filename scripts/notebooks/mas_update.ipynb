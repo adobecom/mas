{
 "cells": [
  {
   "cell_type": "markdown",
   "id": "50093cc3",
   "metadata": {},
   "source": [
    "* Initialize the libraries and variables"
   ]
  },
  {
   "cell_type": "code",
   "execution_count": null,
   "id": "a80c4080",
   "metadata": {},
   "outputs": [],
   "source": [
    "import { DOMParser } from \"https://deno.land/x/deno_dom@v0.1.38/deno-dom-wasm.ts\";\n",
    "import { logError } from \"./logError.js\";\n",
    "import { reloadEnv } from \"./reloadEnv.js\"\n",
    "await reloadEnv();\n",
    "\n",
    "const token = Deno.env.get(\"AEM_TOKEN\");\n",
    "const aemOrigin = 'https://author-p22655-e59433.adobeaemcloud.com';"
   ]
  },
  {
   "cell_type": "markdown",
   "id": "54772fa4",
   "metadata": {},
   "source": [
    "* Fetch the cards to be proccessed\n",
    "* Update the query"
   ]
  },
  {
   "cell_type": "code",
   "execution_count": null,
   "id": "01537438",
   "metadata": {},
   "outputs": [],
   "source": [
    "const cardPath = '/content/dam/mas/sandbox';\n",
    "const createdBy = '';  // with @adobe.com\n",
    "\n",
    "const query = {\n",
    "  filter: {\n",
    "    path: cardPath,\n",
    "    created: {\n",
    "      by: [createdBy],\n",
    "    }\n",
    "  }  \n",
    "};\n",
    "\n",
    "const items = [];\n",
    "let cursor = 'start';\n",
    "\n",
    "while (cursor) {\n",
    "  let url = `${aemOrigin}/adobe/sites/cf/fragments/search?query=${JSON.stringify(query)}`;\n",
    "  \n",
    "  if (cursor !== 'start') {\n",
    "    url += `&cursor=${cursor}`;\n",
    "  }\n",
    "\n",
    "  const response = await fetch(url, {\n",
    "    headers: {\n",
    "      \"x-api-key\": \"mas-studio\",\n",
    "      \"Authorization\": `Bearer ${token}`,\n",
    "    } \n",
    "  });\n",
    "\n",
    "  if (!response.ok) {\n",
    "    logError(response);\n",
    "  }\n",
    "\n",
    "  const data = await response.json();\n",
    "  \n",
    "  items.push(...data.items);\n",
    "  cursor = data.cursor;\n",
    "\n",
    "  console.log(`Fetched ${data.items.length} items`);\n",
    "}\n",
    "\n",
    "console.log(`Total items: ${items.length}`);"
   ]
  },
  {
   "cell_type": "markdown",
   "id": "438c3756",
   "metadata": {},
   "source": [
    "* Review the items"
   ]
  },
  {
   "cell_type": "code",
   "execution_count": null,
   "id": "ab2398ed",
   "metadata": {},
   "outputs": [],
   "source": [
    "console.log(JSON.stringify(items[0], null, 2));"
   ]
  },
  {
   "cell_type": "markdown",
   "id": "99244f3b",
   "metadata": {},
   "source": [
    "* Filter and keep cards to be modified\n",
    "* Find cards that contain descriptions with links of the `secondary-link` class."
   ]
  },
  {
   "cell_type": "code",
   "execution_count": null,
   "id": "daa3c664",
   "metadata": {},
   "outputs": [],
   "source": [
    "const toBeModified = [];\n",
    "\n",
    "for (const item of items) {\n",
    "  const descHtml = item.fields.filter(f => f.name === 'description')[0].values[0];\n",
    "  const doc = new DOMParser().parseFromString(descHtml, 'text/html');\n",
    "  const links = doc.querySelectorAll('a');\n",
    "  if ([...links].some(x => x.getAttribute('class')?.includes('secondary-link'))) {\n",
    "    toBeModified.push(item);\n",
    "  }\n",
    "}\n",
    "\n",
    "console.log(`Total items to be modified: ${toBeModified.length}`);"
   ]
  },
  {
   "cell_type": "markdown",
   "id": "14dd8328",
   "metadata": {},
   "source": [
    "* Review cards to be updated"
   ]
  },
  {
   "cell_type": "code",
   "execution_count": null,
   "id": "b116ec36",
   "metadata": {},
   "outputs": [],
   "source": [
    "console.log(JSON.stringify(toBeModified[0], null, 2));"
   ]
  },
  {
   "cell_type": "markdown",
   "id": "3d524c68",
   "metadata": {},
   "source": [
    "* Updated the cards to be modified\n",
    "* For each card, read the card first and keep etag and then update the card"
   ]
  },
  {
   "cell_type": "code",
   "execution_count": null,
   "id": "ddb54094",
   "metadata": {},
   "outputs": [],
   "source": [
    "for (const item of toBeModified) {\n",
    "  const cardId = item.id;\n",
    "  const url = `${aemOrigin}/adobe/sites/cf/fragments/${cardId}`;\n",
    "\n",
    "  console.log(`Getting card ${cardId}`);\n",
    "\n",
    "  // Get the card\n",
    "  const response = await fetch(url, {\n",
    "    headers: {\n",
    "      \"x-api-key\": \"mas-studio\",\n",
    "      \"Authorization\": `Bearer ${token}`,\n",
    "      pragma: 'no-cache',\n",
    "      'cache-control': 'no-cache',\n",
    "      'x-aem-affinity-type': 'api',\n",
    "    }\n",
    "  });\n",
    "\n",
    "  if (!response.ok) {\n",
    "    logError(response);\n",
    "  }\n",
    "\n",
    "  const data = await response.json();\n",
    "  const etag = response.headers.get('etag');\n",
    "\n",
    "  // Update the description\n",
    "\n",
    "  // Get the current value\n",
    "  const descField = data.fields.filter(f => f.name === 'description')[0];\n",
    "  const descHtml = descField.values[0];\n",
    "\n",
    "  console.log(`Before:\\n ${descHtml}`);\n",
    "\n",
    "  // Prepare the update\n",
    "  const doc = new DOMParser().parseFromString(descHtml, 'text/html');\n",
    "  const links = doc.querySelectorAll('a');\n",
    "  for (const link of links) {\n",
    "    if (link.getAttribute('class')?.includes('secondary-link')) {\n",
    "      link.setAttribute('class', 'primary-link');\n",
    "    }\n",
    "  }\n",
    "  descField.values[0] = doc.body.innerHTML;\n",
    "  console.log(`Ready to update:\\n ${descField.values[0]}`);\n",
    "\n",
    "  // Update the card\n",
    "  const responsePut = await fetch(url, {\n",
    "    method: 'PUT',\n",
    "    headers: {\n",
    "      'Content-Type': 'application/json',\n",
    "      \"x-api-key\": \"mas-studio\",\n",
    "      \"Authorization\": `Bearer ${token}`,\n",
    "      pragma: 'no-cache',\n",
    "      'cache-control': 'no-cache',\n",
    "      'x-aem-affinity-type': 'api',\n",
    "      'If-Match': etag,\n",
    "    },\n",
    "    body: JSON.stringify({\n",
    "      title: data.title,\n",
    "      name: data.name,\n",
    "      modelId: data.modelId,\n",
    "      parentPath: data.parentPath,\n",
    "      description: data.description,\n",
    "      fields: data.fields,\n",
    "    }),\n",
    "  });\n",
    "\n",
    "  if (!responsePut.ok) {\n",
    "    logError(responsePut);\n",
    "  }\n",
    "\n",
    "  const dataPut = await responsePut.json();\n",
    "  console.log(`After:\\n ${dataPut.fields.filter(f => f.name === 'description')[0].values[0]}`);\n",
    "}"
   ]
  }
 ],
 "metadata": {
  "kernelspec": {
   "display_name": "Deno",
   "language": "typescript",
   "name": "deno"
  },
  "language_info": {
   "codemirror_mode": "typescript",
   "file_extension": ".ts",
   "mimetype": "text/x.typescript",
   "name": "typescript",
   "nbconvert_exporter": "script",
   "pygments_lexer": "typescript",
   "version": "5.7.3"
  }
 },
 "nbformat": 4,
 "nbformat_minor": 5
}
