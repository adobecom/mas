{
 "cells": [
  {
   "cell_type": "markdown",
   "id": "50093cc3",
   "metadata": {},
   "source": [
    "* Initialize the libraries and variables"
   ]
  },
  {
   "cell_type": "code",
   "execution_count": null,
   "id": "a80c4080",
   "metadata": {},
   "outputs": [],
   "source": [
    "import { DOMParser } from \"https://deno.land/x/deno_dom@v0.1.38/deno-dom-wasm.ts\";\n",
    "import { logError } from \"./logError.js\";\n",
    "import { reloadEnv } from \"./reloadEnv.js\"\n",
    "await reloadEnv();\n",
    "\n",
    "const token = Deno.env.get(\"AEM_TOKEN\");\n",
    "const aemOrigin = 'https://author-p22655-e59433.adobeaemcloud.com';\n",
    "const destination = '/content/dam/mas/acom/en_US/';"
   ]
  },
  {
   "cell_type": "markdown",
   "id": "0ce87c5a",
   "metadata": {},
   "source": [
    "* Test if the token is working"
   ]
  },
  {
   "cell_type": "code",
   "execution_count": null,
   "id": "fb7c757f",
   "metadata": {},
   "outputs": [],
   "source": [
    "const url = `${aemOrigin}/bin/querybuilder.json?path=/content/dam/mas&path.flat=true&type=sling:Folder&p.limit=-1`;\n",
    "\n",
    "const response = await fetch(url, {\n",
    "  headers: {\n",
    "    \"Authorization\": `Bearer ${token}`\n",
    "  }\n",
    "});\n",
    "\n",
    "if (!response.ok) {\n",
    "  logError(response);\n",
    "}\n",
    "\n",
    "console.log(response.status);"
   ]
  },
  {
   "cell_type": "markdown",
   "id": "54772fa4",
   "metadata": {},
   "source": [
    "* Read card id to be copied from a file"
   ]
  },
  {
   "cell_type": "code",
   "execution_count": null,
   "id": "222b9fe0",
   "metadata": {},
   "outputs": [],
   "source": [
    "const idListFilename = './copy_idlist.txt';\n",
    "const idList = (await Deno.readTextFile(idListFilename)).split('\\n');\n",
    "console.log(`Id count: ${idList.length}`);\n",
    "console.log(idList.join('\\n'));"
   ]
  },
  {
   "cell_type": "markdown",
   "id": "35ab10c9",
   "metadata": {},
   "source": [
    "* Fetch all cards to be copied"
   ]
  },
  {
   "cell_type": "code",
   "execution_count": null,
   "id": "01537438",
   "metadata": {},
   "outputs": [],
   "source": [
    "const cardsToBeCopied = [];\n",
    "\n",
    "for (const item of idList) {\n",
    "  const cardId = item;\n",
    "  const url = `${aemOrigin}/adobe/sites/cf/fragments/${cardId}`;\n",
    "\n",
    "\n",
    "  // Get the card\n",
    "  const response = await fetch(url, {\n",
    "    headers: {\n",
    "      \"x-api-key\": \"mas-studio\",\n",
    "      \"Authorization\": `Bearer ${token}`,\n",
    "      pragma: 'no-cache',\n",
    "      'cache-control': 'no-cache',\n",
    "      'x-aem-affinity-type': 'api',\n",
    "    }\n",
    "  });\n",
    "\n",
    "  if (!response.ok) {\n",
    "    logError(response);\n",
    "  } else {\n",
    "    const data = await response.json();\n",
    "    cardsToBeCopied.push(data);\n",
    "  }\n",
    "}\n",
    "\n",
    "console.log(`Total cards: ${cardsToBeCopied.length}`);\n",
    "console.log(JSON.stringify(cardsToBeCopied[0], null, 2));\n"
   ]
  },
  {
   "cell_type": "markdown",
   "id": "438c3756",
   "metadata": {},
   "source": [
    "* Save to the destination"
   ]
  },
  {
   "cell_type": "code",
   "execution_count": null,
   "id": "ddb54094",
   "metadata": {},
   "outputs": [],
   "source": [
    "const cardsDone = [];\n",
    "const cardsFailed = [];\n",
    "\n",
    "for (const item of cardsToBeCopied) {\n",
    "  const cardId = item.id;\n",
    "  const url = `${aemOrigin}/adobe/sites/cf/fragments/${cardId}`;\n",
    "\n",
    "  console.log(`Getting card ${cardId}`);\n",
    "\n",
    "  // Get the card\n",
    "  const response = await fetch(url, {\n",
    "    headers: {\n",
    "      \"x-api-key\": \"mas-studio\",\n",
    "      \"Authorization\": `Bearer ${token}`,\n",
    "      pragma: 'no-cache',\n",
    "      'cache-control': 'no-cache',\n",
    "      'x-aem-affinity-type': 'api',\n",
    "    }\n",
    "  });\n",
    "\n",
    "  if (!response.ok) {\n",
    "    logError(response);\n",
    "    cardsFailed.push(item);\n",
    "    continue;\n",
    "  }\n",
    "  const data = await response.json();\n",
    "\n",
    "  // Save to the destination\n",
    "  const parentPath = destination;\n",
    "  const name = data.path.replace(/^.*[\\\\\\/]/, '');\n",
    "\n",
    "  console.log(`Saving card ${name} to ${parentPath}`);\n",
    "\n",
    "  const title = data.title;\n",
    "  const modelId = data.model.id;\n",
    "  const description = data.description;\n",
    "  const fields = data.fields;\n",
    "  \n",
    "  const urlSave = `${aemOrigin}/adobe/sites/cf/fragments`;\n",
    "\n",
    "  const responseSave = await fetch(urlSave, {\n",
    "    method: 'POST',\n",
    "    headers: {\n",
    "      'Content-Type': 'application/json',\n",
    "      \"x-api-key\": \"mas-studio\",\n",
    "      \"Authorization\": `Bearer ${token}`,\n",
    "      'x-aem-affinity-type': 'api',\n",
    "    },\n",
    "    body: JSON.stringify({\n",
    "      title,\n",
    "      name,\n",
    "      modelId,\n",
    "      parentPath,\n",
    "      description,\n",
    "      fields,\n",
    "    }),\n",
    "  })\n",
    "\n",
    "  if (!responseSave.ok) {\n",
    "    logError(responseSave);\n",
    "    cardsFailed.push(item);\n",
    "    console.log(`Failed to save card ${name} to ${parentPath}`);\n",
    "  } else {\n",
    "    console.log(`Saving card ${name} to ${parentPath}`);\n",
    "    const data = await responseSave.json();\n",
    "    cardsDone.push(data);\n",
    "  } \n",
    "}\n",
    "\n",
    "console.log(`Total cards copied: ${cardsDone.length}`);\n",
    "console.log(`Total cards failed: ${cardsFailed.length}`);"
   ]
  }
 ],
 "metadata": {
  "kernelspec": {
   "display_name": "Deno",
   "language": "typescript",
   "name": "deno"
  },
  "language_info": {
   "codemirror_mode": "typescript",
   "file_extension": ".ts",
   "mimetype": "text/x.typescript",
   "name": "typescript",
   "nbconvert_exporter": "script",
   "pygments_lexer": "typescript",
   "version": "5.7.3"
  }
 },
 "nbformat": 4,
 "nbformat_minor": 5
}
